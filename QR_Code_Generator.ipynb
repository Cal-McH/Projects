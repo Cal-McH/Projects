{
 "cells": [
  {
   "cell_type": "code",
   "execution_count": 3,
   "id": "b40b9e03",
   "metadata": {},
   "outputs": [],
   "source": [
    "import qrcode\n",
    "import qrcode.image.svg\n",
    "import matplotlib.pyplot as plt"
   ]
  },
  {
   "cell_type": "code",
   "execution_count": 4,
   "id": "5d2f6e6e",
   "metadata": {},
   "outputs": [],
   "source": [
    "def qr_gen(website, filename):\n",
    "    \n",
    "    qr = qrcode.QRCode(\n",
    "    version=None,\n",
    "    error_correction=qrcode.constants.ERROR_CORRECT_M,\n",
    "    box_size=10,\n",
    "    border=4,\n",
    "    )\n",
    "    \n",
    "    qr.add_data(website)\n",
    "    qr.make(fit=True)\n",
    "    img = qr.make_image(fill_color='black', back_color='white')\n",
    "    \n",
    "    plt.imshow(img, cmap='gray')\n",
    "    plt.axis('off')\n",
    "    plt.savefig(filename + '.png', format='png', transparent=True)"
   ]
  },
  {
   "cell_type": "code",
   "execution_count": 5,
   "id": "33576e3d",
   "metadata": {},
   "outputs": [],
   "source": [
    "website = \"https://github.com/Cal-McH/Projects\"\n",
    "filename = \"Cal_GitHub_QR\""
   ]
  },
  {
   "cell_type": "code",
   "execution_count": 6,
   "id": "cb80cd92",
   "metadata": {},
   "outputs": [
    {
     "data": {
      "image/png": "[encoded data removed]",
      "text/plain": [
       "<Figure size 640x480 with 1 Axes>"
      ]
     },
     "metadata": {},
     "output_type": "display_data"
    }
   ],
   "source": [
    "qr_gen(website, filename)"
   ]
  },
  {
   "cell_type": "code",
   "execution_count": null,
   "id": "48e2e616",
   "metadata": {},
   "outputs": [],
   "source": []
  }
 ],
 "metadata": {
  "kernelspec": {
   "display_name": "Python 3 (ipykernel)",
   "language": "python",
   "name": "python3"
  },
  "language_info": {
   "codemirror_mode": {
    "name": "ipython",
    "version": 3
   },
   "file_extension": ".py",
   "mimetype": "text/x-python",
   "name": "python",
   "nbconvert_exporter": "python",
   "pygments_lexer": "ipython3",
   "version": "3.11.2"
  }
 },
 "nbformat": 4,
 "nbformat_minor": 5
}
